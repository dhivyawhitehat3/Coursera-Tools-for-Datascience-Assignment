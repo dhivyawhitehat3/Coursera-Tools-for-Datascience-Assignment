{
 "cells": [
  {
   "cell_type": "markdown",
   "id": "a30db6e3",
   "metadata": {},
   "source": [
    "<center><h1> Data Science Tools and Ecosystem </h1></center>"
   ]
  },
  {
   "cell_type": "markdown",
   "id": "90fc7514",
   "metadata": {},
   "source": [
    "<center><h1> Data Science Tools and Ecosystem </h1></center>"
   ]
  },
  {
   "cell_type": "markdown",
   "id": "28881b2d",
   "metadata": {},
   "source": [
    "<h3>In this notebook, Data Science Tools and Ecosystem are summarized.</h3>"
   ]
  },
  {
   "cell_type": "markdown",
   "id": "9f9c9857",
   "metadata": {},
   "source": [
    "<h4> Some of the popular languages that Data Scientists use are: </h4>\n",
    "<ol>\n",
    "    <li> Python </li>\n",
    "    <li> R</li>\n",
    "     <li>SQL</li>\n",
    "     <li>Java</li>\n",
    "     <li>Javascript</li>\n",
    "    </ol>"
   ]
  },
  {
   "cell_type": "markdown",
   "id": "a0d0a599",
   "metadata": {},
   "source": [
    "<h4> Some of the popular languages that Data Scientists use are: </h4>\n",
    "<ol>\n",
    "    <li> Python </li>\n",
    "    <li> R</li>\n",
    "     <li>SQL</li>\n",
    "     <li>Java</li>\n",
    "     <li>Javascript</li>\n",
    "    </ol>"
   ]
  },
  {
   "cell_type": "markdown",
   "id": "75da6f60",
   "metadata": {},
   "source": [
    "<h4> Some of the commonly used libraries used by that Data Scientists include: </h4>\n",
    "<ol>\n",
    "    <li> Pandas </li>\n",
    "   \n",
    "    <li> PyTorch</li>\n",
    "     <li>Numpy</li>\n",
    "     <li>MatplotLib</li>\n",
    "     <li>Keras  etc</li>\n",
    "    </ol>"
   ]
  },
  {
   "cell_type": "markdown",
   "id": "0f008db4",
   "metadata": {},
   "source": [
    "<h4> Some of the commonly used libraries used by that Data Scientists include: </h4>\n",
    "<ol>\n",
    "    <li> Pandas </li>\n",
    "    <li> PyTorch</li>\n",
    "     <li>Numpy</li>\n",
    "     <li>MatplotLib</li>\n",
    "     <li>Keras etc</li>\n",
    "    </ol>"
   ]
  },
  {
   "cell_type": "markdown",
   "id": "8c3c5299",
   "metadata": {},
   "source": [
    "<table>\n",
    "    <tr>\n",
    "        <th> Data Science Tools </th>\n",
    "    </tr>\n",
    "     <tr><td> Apache Spark </td></tr>\n",
    "     <tr> <td>Jupyter Notebook </td></tr>\n",
    "     <tr> <td>RStudio </td></tr>\n",
    "     <tr><td>Tableau etc </td></tr>\n",
    "    \n",
    "</table>"
   ]
  },
  {
   "cell_type": "markdown",
   "id": "77f1c541",
   "metadata": {},
   "source": [
    "<table>\n",
    "    <tr>\n",
    "        <th> Data Science Tools </th>\n",
    "    </tr>\n",
    "     <tr><td> Apache Spark </td></tr>\n",
    "     <tr> <td>Jupyter Notebook </td></tr>\n",
    "     <tr> <td>RStudio </td></tr>\n",
    "     <tr><td>Tableau etc </td></tr>\n",
    "    \n",
    "</table>"
   ]
  },
  {
   "cell_type": "markdown",
   "id": "0bc032e2",
   "metadata": {},
   "source": [
    "<h3> Below are a few examples of evaluating arithmetic expressions in Python </h3>\n",
    "<ul>\n",
    "<li>4+8 </li>\n",
    "<li>(2-6)*5</li>\n",
    "<li> 5/2+3</li>\n",
    "</ul>\n"
   ]
  },
  {
   "cell_type": "code",
   "execution_count": 2,
   "id": "42d10b3d",
   "metadata": {},
   "outputs": [
    {
     "data": {
      "text/plain": [
       "17"
      ]
     },
     "execution_count": 2,
     "metadata": {},
     "output_type": "execute_result"
    }
   ],
   "source": [
    "#This a simple arithmetic expression to mutiply then add integers\n",
    "(3*4)+5"
   ]
  },
  {
   "cell_type": "code",
   "execution_count": 5,
   "id": "90bc655f",
   "metadata": {
    "scrolled": true
   },
   "outputs": [
    {
     "data": {
      "text/plain": [
       "33.333333333333336"
      ]
     },
     "execution_count": 5,
     "metadata": {},
     "output_type": "execute_result"
    }
   ],
   "source": [
    "#This will convert 200 minutes to hours by diving by 60\n",
    "(200/6)"
   ]
  },
  {
   "cell_type": "markdown",
   "id": "d3b57cef",
   "metadata": {},
   "source": [
    "<h2><b> Objectives: </b></h2>\n",
    "    <ul>\n",
    "    <li>List popular languages for Data Science </li>\n",
    "    <li>List the most popular tools used for different fields of Data Science</li>\n",
    "    <li>The users of different tools </li>\n",
    "    <li>When to use different languages and tools </li>\n",
    "    </ul>\n",
    "    \n",
    "    "
   ]
  },
  {
   "cell_type": "markdown",
   "id": "acdb9cdd",
   "metadata": {},
   "source": [
    "<h2><b> Objectives: </b></h2>\n",
    "    <ul>\n",
    "    <li>List popular languages for Data Science </li>\n",
    "    <li>List the most popular tools used for different fields of Data Science</li>\n",
    "    <li>The users of different tools </li>\n",
    "    <li>When to use different languages and tools </li>\n",
    "    </ul>"
   ]
  },
  {
   "cell_type": "markdown",
   "id": "5d500cd7",
   "metadata": {},
   "source": [
    "<h2> Author: </h2>\n",
    "Dhivya Bharathi"
   ]
  },
  {
   "cell_type": "code",
   "execution_count": null,
   "id": "491e48d4",
   "metadata": {},
   "outputs": [],
   "source": []
  }
 ],
 "metadata": {
  "kernelspec": {
   "display_name": "Python 3 (ipykernel)",
   "language": "python",
   "name": "python3"
  },
  "language_info": {
   "codemirror_mode": {
    "name": "ipython",
    "version": 3
   },
   "file_extension": ".py",
   "mimetype": "text/x-python",
   "name": "python",
   "nbconvert_exporter": "python",
   "pygments_lexer": "ipython3",
   "version": "3.9.12"
  }
 },
 "nbformat": 4,
 "nbformat_minor": 5
}
